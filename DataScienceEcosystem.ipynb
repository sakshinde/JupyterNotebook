{
 "cells": [
  {
   "cell_type": "markdown",
   "id": "43b7d29a",
   "metadata": {},
   "source": [
    "# Data Science Tools and Ecosystem\n"
   ]
  },
  {
   "cell_type": "markdown",
   "id": "9c1c84a9",
   "metadata": {},
   "source": [
    "### In this notebook, Data Science Tools and Ecosystem are summarized."
   ]
  },
  {
   "cell_type": "markdown",
   "id": "4cab1910",
   "metadata": {},
   "source": [
    "## **Objectives:**\n",
    "\n",
    "+ List popular languages for Data Science\n",
    "+ List popular tools for Data Science\n",
    "+ List popular libraries for Data Science"
   ]
  },
  {
   "cell_type": "markdown",
   "id": "92e5eb05",
   "metadata": {},
   "source": [
    "#### Some of the popular languages that Data Scientists use are:\n",
    "1. Python\n",
    "2. R\n",
    "3. Julia"
   ]
  },
  {
   "cell_type": "markdown",
   "id": "f05c57f9",
   "metadata": {},
   "source": [
    "#### Some of the commonly used libraries used by Data Scientists include:\n",
    "1. numpy \n",
    "2. matplot\n",
    "3. ggplot"
   ]
  },
  {
   "cell_type": "markdown",
   "id": "93f34a89",
   "metadata": {},
   "source": [
    "### Data Science Tools\n",
    "\n",
    "|Data Science Tools| \n",
    "|---------|\n",
    "|JupyterLab|\n",
    "|ApacheSpark|\n",
    "|Weka|"
   ]
  },
  {
   "cell_type": "markdown",
   "id": "cfd29a9a",
   "metadata": {},
   "source": [
    "### Below are a few examples of evaluating arithmetic expressions in Python"
   ]
  },
  {
   "cell_type": "code",
   "execution_count": 1,
   "id": "8d12401c",
   "metadata": {},
   "outputs": [
    {
     "data": {
      "text/plain": [
       "17"
      ]
     },
     "execution_count": 1,
     "metadata": {},
     "output_type": "execute_result"
    }
   ],
   "source": [
    "#This a simple arithmetic expression to mutiply then add integers\n",
    "(3*4)+5"
   ]
  },
  {
   "cell_type": "code",
   "execution_count": 4,
   "id": "20a03924",
   "metadata": {},
   "outputs": [
    {
     "name": "stdout",
     "output_type": "stream",
     "text": [
      "3.3333333333333335\n"
     ]
    }
   ],
   "source": [
    "#This will convert 200 minutes to hours by diving by 60\n",
    "a = 200\n",
    "b = 200/60\n",
    "print(b)"
   ]
  },
  {
   "cell_type": "markdown",
   "id": "aca15cc0",
   "metadata": {},
   "source": [
    "## Author \n",
    "Sakshi Shinde"
   ]
  },
  {
   "cell_type": "code",
   "execution_count": null,
   "id": "34202bdf",
   "metadata": {},
   "outputs": [],
   "source": []
  }
 ],
 "metadata": {
  "kernelspec": {
   "display_name": "Python 3 (ipykernel)",
   "language": "python",
   "name": "python3"
  },
  "language_info": {
   "codemirror_mode": {
    "name": "ipython",
    "version": 3
   },
   "file_extension": ".py",
   "mimetype": "text/x-python",
   "name": "python",
   "nbconvert_exporter": "python",
   "pygments_lexer": "ipython3",
   "version": "3.10.11"
  }
 },
 "nbformat": 4,
 "nbformat_minor": 5
}
